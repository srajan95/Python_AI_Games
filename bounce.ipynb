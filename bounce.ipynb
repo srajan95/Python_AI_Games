{
 "cells": [
  {
   "cell_type": "code",
   "execution_count": 1,
   "metadata": {},
   "outputs": [],
   "source": [
    "\"\"\"Bounce, a simple animation demo.\n",
    "\n",
    "Exercises\n",
    "\n",
    "1. Make the ball speed up and down.\n",
    "2. Change how the ball bounces when it hits a wall.\n",
    "3. Make the ball leave a trail.\n",
    "4. Change the ball color based on position.\n",
    "   Hint: colormode(255); color(0, 100, 200)\n",
    "\n",
    "\"\"\"\n",
    "\n",
    "from random import *\n",
    "from turtle import *\n",
    "from base import vector\n",
    "\n",
    "def value():\n",
    "    \"Randomly generate value between (-5, -3) or (3, 5).\"\n",
    "    return (3 + random() * 2) * choice([1, -1])\n",
    "\n",
    "ball = vector(0, 0)\n",
    "aim = vector(value(), value())\n",
    "\n",
    "def draw():\n",
    "    \"Move ball and draw game.\"\n",
    "    ball.move(aim)\n",
    "\n",
    "    x = ball.x\n",
    "    y = ball.y\n",
    "\n",
    "    if x < -200 or x > 200:\n",
    "        aim.x = -aim.x\n",
    "\n",
    "    if y < -200 or y > 200:\n",
    "        aim.y = -aim.y\n",
    "\n",
    "    clear()\n",
    "    goto(x, y)\n",
    "    dot(10)\n",
    "\n",
    "    ontimer(draw, 50)\n",
    "\n",
    "setup(420, 420, 370, 0)\n",
    "hideturtle()\n",
    "tracer(False)\n",
    "up()\n",
    "draw()\n",
    "done()\n"
   ]
  },
  {
   "cell_type": "code",
   "execution_count": null,
   "metadata": {},
   "outputs": [],
   "source": []
  },
  {
   "cell_type": "code",
   "execution_count": null,
   "metadata": {},
   "outputs": [],
   "source": []
  }
 ],
 "metadata": {
  "kernelspec": {
   "display_name": "Python 3",
   "language": "python",
   "name": "python3"
  },
  "language_info": {
   "codemirror_mode": {
    "name": "ipython",
    "version": 3
   },
   "file_extension": ".py",
   "mimetype": "text/x-python",
   "name": "python",
   "nbconvert_exporter": "python",
   "pygments_lexer": "ipython3",
   "version": "3.7.3"
  }
 },
 "nbformat": 4,
 "nbformat_minor": 2
}
